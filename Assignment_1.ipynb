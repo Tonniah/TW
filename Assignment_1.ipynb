{
  "nbformat": 4,
  "nbformat_minor": 0,
  "metadata": {
    "colab": {
      "provenance": [],
      "authorship_tag": "ABX9TyPVrahvAzFke3M+Knlby429",
      "include_colab_link": true
    },
    "kernelspec": {
      "name": "python3",
      "display_name": "Python 3"
    },
    "language_info": {
      "name": "python"
    }
  },
  "cells": [
    {
      "cell_type": "markdown",
      "metadata": {
        "id": "view-in-github",
        "colab_type": "text"
      },
      "source": [
        "<a href=\"https://colab.research.google.com/github/Tonniah/TW/blob/main/Assignment_1.ipynb\" target=\"_parent\"><img src=\"https://colab.research.google.com/assets/colab-badge.svg\" alt=\"Open In Colab\"/></a>"
      ]
    },
    {
      "cell_type": "markdown",
      "source": [
        "Step 1 Loading and inspecting data in a typical data preprocessing or data analysis workflow"
      ],
      "metadata": {
        "id": "Hpivg7bpF1eF"
      }
    },
    {
      "cell_type": "code",
      "source": [
        "import pandas as pd\n",
        "#Load dataset (Assume you have the 'HateSpeech_Kenya.csv' file)\n",
        "data = pd.read_csv('HateSpeech_Kenya.csv')\n",
        "#Display the first few rows of the dataset\n",
        "print(data.head())\n"
      ],
      "metadata": {
        "colab": {
          "base_uri": "https://localhost:8080/"
        },
        "id": "y26bmP2MGJ5t",
        "outputId": "0f6d541f-41ff-48d4-8a0b-09bc3ef6775d"
      },
      "execution_count": 10,
      "outputs": [
        {
          "output_type": "stream",
          "name": "stdout",
          "text": [
            "   hate_speech  offensive_language  neither  Class  \\\n",
            "0            0                   0        3      0   \n",
            "1            0                   0        3      0   \n",
            "2            0                   0        3      0   \n",
            "3            0                   0        3      0   \n",
            "4            0                   0        3      0   \n",
            "\n",
            "                                               Tweet  \n",
            "0  ['The political elite are in desperation. Ordi...  \n",
            "1  [\"Am just curious the only people who are call...  \n",
            "2  ['USERNAME_3 the area politicians are the one ...  \n",
            "3  ['War expected in Nakuru if something is not d...  \n",
            "4  ['USERNAME_4 tells kikuyus activists that they...  \n"
          ]
        }
      ]
    },
    {
      "cell_type": "code",
      "source": [
        "print(data.tail())\n"
      ],
      "metadata": {
        "colab": {
          "base_uri": "https://localhost:8080/"
        },
        "id": "n8kxDhDiHlWb",
        "outputId": "ab2853b7-723c-4fbe-ab5f-ac17a66afab6"
      },
      "execution_count": 11,
      "outputs": [
        {
          "output_type": "stream",
          "name": "stdout",
          "text": [
            "       hate_speech  offensive_language  neither  Class  \\\n",
            "48071            0                   0        2      0   \n",
            "48072            0                   0        2      0   \n",
            "48073            0                   0        2      0   \n",
            "48074            1                   0        2      0   \n",
            "48075            0                   1        2      0   \n",
            "\n",
            "                                                   Tweet  \n",
            "48071  ['This is exactly what Moses Kuria & ilk are d...  \n",
            "48072  ['This is exactly what Kenyans are going throu...  \n",
            "48073  [\"This is exactly what is wrong with this coun...  \n",
            "48074  [\"This is exactly the same thing. Well the onl...  \n",
            "48075  ['This is exactly how Luos feel in this countr...  \n"
          ]
        }
      ]
    },
    {
      "cell_type": "markdown",
      "source": [
        "Step 2:We check for missing values"
      ],
      "metadata": {
        "id": "8sQ6hbZVHGoJ"
      }
    },
    {
      "cell_type": "code",
      "source": [
        "print(data.isnull().sum())\n",
        "\n"
      ],
      "metadata": {
        "colab": {
          "base_uri": "https://localhost:8080/"
        },
        "id": "h9opWQJVHxHL",
        "outputId": "b3e6f25f-8163-40f5-8889-19d265b95119"
      },
      "execution_count": 12,
      "outputs": [
        {
          "output_type": "stream",
          "name": "stdout",
          "text": [
            "hate_speech           0\n",
            "offensive_language    0\n",
            "neither               0\n",
            "Class                 0\n",
            "Tweet                 0\n",
            "dtype: int64\n"
          ]
        }
      ]
    },
    {
      "cell_type": "markdown",
      "source": [
        "Step 3:Checking summary statistics"
      ],
      "metadata": {
        "id": "guNHQfU6IZJp"
      }
    },
    {
      "cell_type": "code",
      "source": [
        "print(data.describe())"
      ],
      "metadata": {
        "colab": {
          "base_uri": "https://localhost:8080/"
        },
        "id": "5W65M6IHIbNa",
        "outputId": "1d0f0582-b78a-49c3-ba02-ff7ff1fdfb57"
      },
      "execution_count": 13,
      "outputs": [
        {
          "output_type": "stream",
          "name": "stdout",
          "text": [
            "        hate_speech  offensive_language       neither         Class\n",
            "count  48076.000000        48076.000000  48076.000000  48076.000000\n",
            "mean       0.256719            0.669690      2.110138      0.310030\n",
            "std        0.628820            0.846868      1.020536      0.588431\n",
            "min        0.000000            0.000000      0.000000      0.000000\n",
            "25%        0.000000            0.000000      2.000000      0.000000\n",
            "50%        0.000000            0.000000      2.000000      0.000000\n",
            "75%        0.000000            1.000000      3.000000      0.000000\n",
            "max        6.000000            6.000000      8.000000      2.000000\n"
          ]
        }
      ]
    },
    {
      "cell_type": "markdown",
      "source": [
        "Step 4:\n",
        "Perfoming corrlation analysis on tweets\n",
        "\n",
        "removing special characters,\n",
        "URL and emoji\n",
        "Lowering texts\n",
        "Removing stop words eg the , is\n",
        "Tokenization(splitting text into word)\n",
        "Stemming or lemmatization(reducing words to their root form)"
      ],
      "metadata": {
        "id": "YDcA785eAaJl"
      }
    },
    {
      "cell_type": "code",
      "execution_count": 14,
      "metadata": {
        "id": "me6WMlif3Y1c",
        "colab": {
          "base_uri": "https://localhost:8080/"
        },
        "outputId": "cde146e0-adfe-43a3-90e6-575a6d74ee94"
      },
      "outputs": [
        {
          "output_type": "stream",
          "name": "stdout",
          "text": [
            "Requirement already satisfied: langdetect in /usr/local/lib/python3.10/dist-packages (1.0.9)\n",
            "Requirement already satisfied: six in /usr/local/lib/python3.10/dist-packages (from langdetect) (1.16.0)\n"
          ]
        },
        {
          "output_type": "stream",
          "name": "stderr",
          "text": [
            "[nltk_data] Downloading package stopwords to /root/nltk_data...\n",
            "[nltk_data]   Package stopwords is already up-to-date!\n",
            "[nltk_data] Downloading package punkt to /root/nltk_data...\n",
            "[nltk_data]   Package punkt is already up-to-date!\n",
            "[nltk_data] Downloading package wordnet to /root/nltk_data...\n",
            "[nltk_data]   Package wordnet is already up-to-date!\n"
          ]
        },
        {
          "output_type": "execute_result",
          "data": {
            "text/plain": [
              "True"
            ]
          },
          "metadata": {},
          "execution_count": 14
        }
      ],
      "source": [
        "!pip install langdetect # install the missing module\n",
        "import pandas as pd\n",
        "import re\n",
        "import nltk\n",
        "from nltk.corpus import stopwords\n",
        "from nltk.tokenize import word_tokenize\n",
        "from nltk.stem import PorterStemmer\n",
        "from nltk.stem import WordNetLemmatizer\n",
        "import emoji # The emoji module is now available\n",
        "from langdetect import detect\n",
        "\n",
        "nltk.download('stopwords')\n",
        "nltk.download('punkt')\n",
        "nltk.download('wordnet')\n"
      ]
    },
    {
      "cell_type": "markdown",
      "source": [
        "Step 5: Define the Tweet Cleaning Function\n",
        "Here’s a function to clean the tweets by removing URLs, usernames, and punctuation, and converting the tweet into a numerical form (the length of each word):"
      ],
      "metadata": {
        "id": "dXofhh4CBsFT"
      }
    },
    {
      "cell_type": "code",
      "source": [
        "\n",
        "   def process_tweet(tweet): # Add tweet as an argument to the function definition\n",
        "    # Remove URLs\n",
        "    Tweet = re.sub(r'http\\S+|www\\S+|https\\S+', '', tweet, flags=re.MULTILINE)\n",
        "\n",
        "    # Remove usernames\n",
        "    tweet = re.sub(r'@\\w+', '', tweet)\n",
        "\n",
        "    # Remove punctuations\n",
        "    tweet = re.sub(r'[^\\w\\s]', '', tweet)\n",
        "\n",
        "    # Convert emojis to text\n",
        "    tweet = emoji.demojize(tweet)\n",
        "\n",
        "    # Tokenize the tweet\n",
        "    tokens = word_tokenize(tweet)\n",
        "\n",
        "    # Remove stop words\n",
        "    stop_words = set(stopwords.words('english'))\n",
        "    tokens = [word for word in tokens if word.lower() not in stop_words]\n",
        "\n",
        "    # Convert to numerical form (word length in this case)\n",
        "    numerical_tweet = ' '.join([str(len(word)) for word in tokens])\n",
        "\n",
        "    return ' '.join(tokens), numerical_tweet"
      ],
      "metadata": {
        "id": "HAw4iJcuBxcV"
      },
      "execution_count": 15,
      "outputs": []
    },
    {
      "cell_type": "markdown",
      "source": [
        "Step 6:Handling missing values for numeerical columns by filling them with the median of the\n",
        "column"
      ],
      "metadata": {
        "id": "uwLYwoncFUkq"
      }
    },
    {
      "cell_type": "code",
      "source": [
        "# Fill missing values in 'hate_speech' with the median\n",
        "data['hate_speech'].fillna(data['hate_speech'].median(), inplace=True)"
      ],
      "metadata": {
        "id": "pme0nTCsFlu1"
      },
      "execution_count": 19,
      "outputs": []
    },
    {
      "cell_type": "markdown",
      "source": [
        "Step 7:Handle missing values for categorical column eg ['Tweet'] by filling them with the most\n",
        "frequent value (mode)"
      ],
      "metadata": {
        "id": "NhAqLO1UJzrv"
      }
    },
    {
      "cell_type": "code",
      "source": [
        "#Fill missing values in 'tweet' with the most frequent value\n",
        "data['Tweet'].fillna(data['Tweet'].mode()[0], inplace=True)\n"
      ],
      "metadata": {
        "id": "lUJUO4JmJ7-H"
      },
      "execution_count": 20,
      "outputs": []
    },
    {
      "cell_type": "markdown",
      "source": [
        "Step 8:Drop rows with missing targert variable data(if applicable,such as in the\n",
        "'offensive_language' column\n"
      ],
      "metadata": {
        "id": "YQGI5FLDKCVW"
      }
    },
    {
      "cell_type": "code",
      "source": [
        "#Drop rows with missing target values(optional)\n",
        "data.dropna(subset=['offensive_language'], inplace=True)"
      ],
      "metadata": {
        "id": "ScgGQRYKKKyx"
      },
      "execution_count": 21,
      "outputs": []
    },
    {
      "cell_type": "markdown",
      "source": [
        "Step 9:Scaling numerical data identity numerical features eg ('offensive_language',\n",
        "'Hate_speech') and apply standard scaling(z-score normalization) to mormalize the values"
      ],
      "metadata": {
        "id": "CJ4TX1AgKUnM"
      }
    },
    {
      "cell_type": "code",
      "source": [
        "from sklearn.preprocessing import StandardScaler\n",
        "#Define the numerical column to scale\n",
        "numerical_cols = ['offensive_language', 'hate_speech']\n",
        "#initialize the scaler\n",
        "scaler = StandardScaler()\n",
        "#Scale numerical features\n",
        "data[numerical_cols] = scaler.fit_transform(data[numerical_cols])\n"
      ],
      "metadata": {
        "id": "Ezguu-skKke7"
      },
      "execution_count": 22,
      "outputs": []
    },
    {
      "cell_type": "markdown",
      "source": [
        "Step 10:Encoding categorical variables,convert categorical variables into format using one hot\n",
        "encoding.Focus on column like'class'"
      ],
      "metadata": {
        "id": "YnWMezfQKmqZ"
      }
    },
    {
      "cell_type": "code",
      "source": [
        "# One-hot encode only the 'Class' column if it's categorical\n",
        "data = pd.get_dummies(data, columns=['Class'], drop_first=True)"
      ],
      "metadata": {
        "id": "CaSRZNoqKvc7"
      },
      "execution_count": 23,
      "outputs": []
    },
    {
      "cell_type": "markdown",
      "source": [
        "Step 11:verify that categorical column have been successfully encoded into numerical values"
      ],
      "metadata": {
        "id": "IZU7rlcoK5w1"
      }
    },
    {
      "cell_type": "code",
      "source": [
        "print(data.head())"
      ],
      "metadata": {
        "colab": {
          "base_uri": "https://localhost:8080/"
        },
        "id": "4xN75xMKLCg0",
        "outputId": "148612dd-c934-4a07-a5f1-8029c1c212cb"
      },
      "execution_count": 25,
      "outputs": [
        {
          "output_type": "stream",
          "name": "stdout",
          "text": [
            "   hate_speech  offensive_language  neither  \\\n",
            "0    -0.408258           -0.790792        3   \n",
            "1    -0.408258           -0.790792        3   \n",
            "2    -0.408258           -0.790792        3   \n",
            "3    -0.408258           -0.790792        3   \n",
            "4    -0.408258           -0.790792        3   \n",
            "\n",
            "                                               Tweet  Class_1  Class_2  \n",
            "0  ['The political elite are in desperation. Ordi...    False    False  \n",
            "1  [\"Am just curious the only people who are call...    False    False  \n",
            "2  ['USERNAME_3 the area politicians are the one ...    False    False  \n",
            "3  ['War expected in Nakuru if something is not d...    False    False  \n",
            "4  ['USERNAME_4 tells kikuyus activists that they...    False    False  \n"
          ]
        }
      ]
    },
    {
      "cell_type": "code",
      "source": [
        "print(data.tail())\n"
      ],
      "metadata": {
        "colab": {
          "base_uri": "https://localhost:8080/"
        },
        "id": "jJ7SHydNLcpI",
        "outputId": "d3a39d05-be6a-459b-b71a-415c0a4b831b"
      },
      "execution_count": 26,
      "outputs": [
        {
          "output_type": "stream",
          "name": "stdout",
          "text": [
            "       hate_speech  offensive_language  neither  \\\n",
            "48071    -0.408258           -0.790792        2   \n",
            "48072    -0.408258           -0.790792        2   \n",
            "48073    -0.408258           -0.790792        2   \n",
            "48074     1.182037           -0.790792        2   \n",
            "48075    -0.408258            0.390042        2   \n",
            "\n",
            "                                                   Tweet  Class_1  Class_2  \n",
            "48071  ['This is exactly what Moses Kuria & ilk are d...    False    False  \n",
            "48072  ['This is exactly what Kenyans are going throu...    False    False  \n",
            "48073  [\"This is exactly what is wrong with this coun...    False    False  \n",
            "48074  [\"This is exactly the same thing. Well the onl...    False    False  \n",
            "48075  ['This is exactly how Luos feel in this countr...    False    False  \n"
          ]
        }
      ]
    },
    {
      "cell_type": "markdown",
      "source": [
        "Step 12: plot a histogram"
      ],
      "metadata": {
        "id": "R8PkvMP_LmMy"
      }
    },
    {
      "cell_type": "code",
      "source": [
        "import matplotlib.pyplot as plt\n",
        "#plot histogram for each feature\n",
        "data.hist(figsize=(8,8))\n",
        "plt.suptitle(\"Hatespeech_Kenya\")\n",
        "plt.show()"
      ],
      "metadata": {
        "colab": {
          "base_uri": "https://localhost:8080/",
          "height": 756
        },
        "id": "R2mzldjwL9yJ",
        "outputId": "967c618a-2c91-4f04-f9b0-9621c74e59cb"
      },
      "execution_count": 27,
      "outputs": [
        {
          "output_type": "display_data",
          "data": {
            "text/plain": [
              "<Figure size 800x800 with 4 Axes>"
            ],
            "image/png": "[encoded data removed]"
          },
          "metadata": {}
        }
      ]
    },
    {
      "cell_type": "markdown",
      "source": [
        "Step 13:Splitting data into training and testing sets separates the target 'offensive_language'\n",
        "from the feature variables"
      ],
      "metadata": {
        "id": "7pc1j4JVPJ0u"
      }
    },
    {
      "cell_type": "code",
      "source": [
        "import pandas as pd\n",
        "\n",
        "\n",
        "data = pd.read_csv('HateSpeech_Kenya.csv')\n",
        "\n",
        "x = data.drop('offensive_language', axis=1)\n",
        "y = data['offensive_language']"
      ],
      "metadata": {
        "id": "QNvvu6waR4PA"
      },
      "execution_count": 20,
      "outputs": []
    },
    {
      "cell_type": "markdown",
      "source": [
        "Step 14:split the database into training and testing sets using an 80/20 split"
      ],
      "metadata": {
        "id": "Ovsm8qQCTc4h"
      }
    },
    {
      "cell_type": "code",
      "source": [
        "from sklearn.model_selection import train_test_split\n",
        "\n",
        "#Split the data into training and testing sets\n",
        "x_train, x_test, y_train, y_test = train_test_split(x, y, test_size=0.2, random_state=42)\n",
        "\n",
        "print(f\"Training set size: {x_train.shape}\")\n",
        "print(f\"Testing set size: {x_test.shape}\")"
      ],
      "metadata": {
        "colab": {
          "base_uri": "https://localhost:8080/"
        },
        "id": "gV47WIiJTipW",
        "outputId": "62d9ea54-6984-4627-badb-ad8bd57753bb"
      },
      "execution_count": 22,
      "outputs": [
        {
          "output_type": "stream",
          "name": "stdout",
          "text": [
            "Training set size: (38460, 4)\n",
            "Testing set size: (9616, 4)\n"
          ]
        }
      ]
    },
    {
      "cell_type": "markdown",
      "source": [
        "Step 15:Tweet column cleaned and before"
      ],
      "metadata": {
        "id": "c9xEH5YoUDbm"
      }
    },
    {
      "cell_type": "code",
      "source": [
        "# Load your dataset\n",
        "file_path = 'HateSpeech_Kenya.csv'\n",
        "data = pd.read_csv(file_path)\n",
        "\n",
        "\n",
        "def clean_tweet(tweet):\n",
        "\n",
        "    cleaned_tweet = tweet.lower()\n",
        "    numerical_tweet = 1\n",
        "    return cleaned_tweet, numerical_tweet\n",
        "\n",
        "# Apply the clean_tweet function to the 'Tweet' column\n",
        "data['Cleaned_Tweet'], data['Numerical_Tweet'] = zip(*data['Tweet'].apply(clean_tweet))\n",
        "\n",
        "# Display the cleaned data\n",
        "cleaned_data = data[['Tweet', 'Cleaned_Tweet', 'Numerical_Tweet']]\n",
        "print(cleaned_data.head())\n"
      ],
      "metadata": {
        "colab": {
          "base_uri": "https://localhost:8080/"
        },
        "id": "ast5WUJiUYfS",
        "outputId": "c92b86fb-5cd4-4f3d-ebe3-cb8db1ab720e"
      },
      "execution_count": 25,
      "outputs": [
        {
          "output_type": "stream",
          "name": "stdout",
          "text": [
            "                                               Tweet  \\\n",
            "0  ['The political elite are in desperation. Ordi...   \n",
            "1  [\"Am just curious the only people who are call...   \n",
            "2  ['USERNAME_3 the area politicians are the one ...   \n",
            "3  ['War expected in Nakuru if something is not d...   \n",
            "4  ['USERNAME_4 tells kikuyus activists that they...   \n",
            "\n",
            "                                       Cleaned_Tweet  Numerical_Tweet  \n",
            "0  ['the political elite are in desperation. ordi...                1  \n",
            "1  [\"am just curious the only people who are call...                1  \n",
            "2  ['username_3 the area politicians are the one ...                1  \n",
            "3  ['war expected in nakuru if something is not d...                1  \n",
            "4  ['username_4 tells kikuyus activists that they...                1  \n"
          ]
        }
      ]
    },
    {
      "cell_type": "markdown",
      "source": [
        "Summary: In this data preprocessing framework, the first step carried out was to load the\n",
        "HateSpeech_Kenya dataset and took a quick look at the dataset to get some information about\n",
        "the structure of the data and the type of data it possesses. We also checked for any\n",
        "observations which contain missing values and found out that there were none hence reducing\n",
        "the problem of missing values in the dataset. Basic summaries regarding tabular data analysis\n",
        "gave information on the kind of distribution of numerical variables including the hate_speech,\n",
        "and the offensive_language.\n",
        "Subsequently, we addressed the missing value problem by using the median to replace\n",
        "numerical variables, for instance hatespeech and using the mode to represent categorical\n",
        "variable such as Tweet. In preparation of the data for modeling, scaling was done on the\n",
        "numerical columns with the help of StandardScaler with the purpose of normalizing the data.\n",
        "Then we also converted the Class column into numerical format using the one hot encoder.\n",
        "And we cleaned the dataset of tweets by:\n",
        "\n",
        "Removing URLs, usernames, and punctuations.\n",
        "Converting the cleaned tweet to a numerical form (based on word length).\n",
        "Displaying the original tweet and the cleaned version in two columns.\n",
        "Last, the data set was divided into the training and test data for model assessment with the\n",
        "training data containing 38,460 samples and testing data containing 9,616 samples.\n"
      ],
      "metadata": {
        "id": "A0l_rn9lbXlN"
      }
    }
  ]
}